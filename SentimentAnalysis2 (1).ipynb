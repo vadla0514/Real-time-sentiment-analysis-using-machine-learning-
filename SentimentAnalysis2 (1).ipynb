{
 "cells": [
  {
   "cell_type": "code",
   "execution_count": 1,
   "id": "3841b912-0284-499f-8ffa-369d552cab63",
   "metadata": {},
   "outputs": [
    {
     "name": "stdout",
     "output_type": "stream",
     "text": [
      "Requirement already satisfied: textblob in c:\\users\\admin\\anaconda3\\lib\\site-packages (0.18.0.post0)"
     ]
    },
    {
     "name": "stderr",
     "output_type": "stream",
     "text": [
      "\n",
      "[notice] A new release of pip is available: 24.1.2 -> 24.2\n",
      "[notice] To update, run: python.exe -m pip install --upgrade pip\n"
     ]
    },
    {
     "name": "stdout",
     "output_type": "stream",
     "text": [
      "\n",
      "Requirement already satisfied: nltk>=3.8 in c:\\users\\admin\\anaconda3\\lib\\site-packages (from textblob) (3.8.1)\n",
      "Requirement already satisfied: click in c:\\users\\admin\\anaconda3\\lib\\site-packages (from nltk>=3.8->textblob) (8.1.7)\n",
      "Requirement already satisfied: joblib in c:\\users\\admin\\anaconda3\\lib\\site-packages (from nltk>=3.8->textblob) (1.2.0)\n",
      "Requirement already satisfied: regex>=2021.8.3 in c:\\users\\admin\\anaconda3\\lib\\site-packages (from nltk>=3.8->textblob) (2023.10.3)\n",
      "Requirement already satisfied: tqdm in c:\\users\\admin\\anaconda3\\lib\\site-packages (from nltk>=3.8->textblob) (4.65.0)\n",
      "Requirement already satisfied: colorama in c:\\users\\admin\\anaconda3\\lib\\site-packages (from click->nltk>=3.8->textblob) (0.4.6)\n",
      "Requirement already satisfied: pip in c:\\users\\admin\\anaconda3\\lib\\site-packages (24.1.2)\n",
      "Collecting pip\n",
      "  Using cached pip-24.2-py3-none-any.whl.metadata (3.6 kB)\n",
      "Using cached pip-24.2-py3-none-any.whl (1.8 MB)\n"
     ]
    },
    {
     "name": "stderr",
     "output_type": "stream",
     "text": [
      "ERROR: To modify pip, please run the following command:\n",
      "C:\\Users\\ADMIN\\anaconda3\\python.exe -m pip install --upgrade pip\n",
      "\n",
      "[notice] A new release of pip is available: 24.1.2 -> 24.2\n",
      "[notice] To update, run: python.exe -m pip install --upgrade pip\n"
     ]
    },
    {
     "name": "stdout",
     "output_type": "stream",
     "text": [
      "Requirement already satisfied: xgboost in c:\\users\\admin\\anaconda3\\lib\\site-packages (2.1.0)\n",
      "Requirement already satisfied: numpy in c:\\users\\admin\\anaconda3\\lib\\site-packages (from xgboost) (1.26.4)\n",
      "Requirement already satisfied: scipy in c:\\users\\admin\\anaconda3\\lib\\site-packages (from xgboost) (1.11.4)\n"
     ]
    },
    {
     "name": "stderr",
     "output_type": "stream",
     "text": [
      "\n",
      "[notice] A new release of pip is available: 24.1.2 -> 24.2\n",
      "[notice] To update, run: python.exe -m pip install --upgrade pip\n"
     ]
    },
    {
     "name": "stdout",
     "output_type": "stream",
     "text": [
      "Requirement already satisfied: wordcloud in c:\\users\\admin\\anaconda3\\lib\\site-packages (1.9.3)\n",
      "Requirement already satisfied: numpy>=1.6.1 in c:\\users\\admin\\anaconda3\\lib\\site-packages (from wordcloud) (1.26.4)\n",
      "Requirement already satisfied: pillow in c:\\users\\admin\\anaconda3\\lib\\site-packages (from wordcloud) (10.2.0)\n",
      "Requirement already satisfied: matplotlib in c:\\users\\admin\\anaconda3\\lib\\site-packages (from wordcloud) (3.8.0)\n",
      "Requirement already satisfied: contourpy>=1.0.1 in c:\\users\\admin\\anaconda3\\lib\\site-packages (from matplotlib->wordcloud) (1.2.0)\n",
      "Requirement already satisfied: cycler>=0.10 in c:\\users\\admin\\anaconda3\\lib\\site-packages (from matplotlib->wordcloud) (0.11.0)\n",
      "Requirement already satisfied: fonttools>=4.22.0 in c:\\users\\admin\\anaconda3\\lib\\site-packages (from matplotlib->wordcloud) (4.25.0)\n",
      "Requirement already satisfied: kiwisolver>=1.0.1 in c:\\users\\admin\\anaconda3\\lib\\site-packages (from matplotlib->wordcloud) (1.4.4)\n",
      "Requirement already satisfied: packaging>=20.0 in c:\\users\\admin\\anaconda3\\lib\\site-packages (from matplotlib->wordcloud) (23.1)\n",
      "Requirement already satisfied: pyparsing>=2.3.1 in c:\\users\\admin\\anaconda3\\lib\\site-packages (from matplotlib->wordcloud) (3.0.9)\n",
      "Requirement already satisfied: python-dateutil>=2.7 in c:\\users\\admin\\anaconda3\\lib\\site-packages (from matplotlib->wordcloud) (2.8.2)\n",
      "Requirement already satisfied: six>=1.5 in c:\\users\\admin\\anaconda3\\lib\\site-packages (from python-dateutil>=2.7->matplotlib->wordcloud) (1.16.0)\n"
     ]
    },
    {
     "name": "stderr",
     "output_type": "stream",
     "text": [
      "\n",
      "[notice] A new release of pip is available: 24.1.2 -> 24.2\n",
      "[notice] To update, run: python.exe -m pip install --upgrade pip\n"
     ]
    },
    {
     "name": "stdout",
     "output_type": "stream",
     "text": [
      "Requirement already satisfied: numpy in c:\\users\\admin\\anaconda3\\lib\\site-packages (1.26.4)\n"
     ]
    },
    {
     "name": "stderr",
     "output_type": "stream",
     "text": [
      "\n",
      "[notice] A new release of pip is available: 24.1.2 -> 24.2\n",
      "[notice] To update, run: python.exe -m pip install --upgrade pip\n"
     ]
    },
    {
     "name": "stdout",
     "output_type": "stream",
     "text": [
      "Requirement already satisfied: pillow in c:\\users\\admin\\anaconda3\\lib\\site-packages (10.2.0)\n"
     ]
    },
    {
     "name": "stderr",
     "output_type": "stream",
     "text": [
      "\n",
      "[notice] A new release of pip is available: 24.1.2 -> 24.2\n",
      "[notice] To update, run: python.exe -m pip install --upgrade pip\n",
      "[nltk_data] Downloading package averaged_perceptron_tagger to\n",
      "[nltk_data]     C:\\Users\\ADMIN\\AppData\\Roaming\\nltk_data...\n",
      "[nltk_data]   Package averaged_perceptron_tagger is already up-to-\n",
      "[nltk_data]       date!\n",
      "[nltk_data] Downloading package punkt to\n",
      "[nltk_data]     C:\\Users\\ADMIN\\AppData\\Roaming\\nltk_data...\n",
      "[nltk_data]   Package punkt is already up-to-date!\n"
     ]
    }
   ],
   "source": [
    "!pip install -U textblob\n",
    "!pip install --upgrade pip\n",
    "!pip install xgboost\n",
    "!pip install wordcloud\n",
    "!pip install numpy\n",
    "!pip install pillow\n",
    "import nltk\n",
    "nltk.download('averaged_perceptron_tagger')\n",
    "nltk.download('punkt')\n",
    "import pandas as pd\n",
    "import numpy as np\n",
    "import re\n",
    "import seaborn as sns\n",
    "import matplotlib.pyplot as plt\n",
    "from matplotlib import style\n",
    "style.use('ggplot')\n",
    "from textblob import TextBlob\n",
    "from nltk.tokenize import word_tokenize\n",
    "from nltk.stem import PorterStemmer\n",
    "from nltk.corpus import stopwords\n",
    "stop_words = set(stopwords.words('english'))\n",
    "from wordcloud import WordCloud\n",
    "from sklearn.feature_extraction.text import CountVectorizer\n",
    "from sklearn.model_selection import train_test_split\n",
    "from sklearn.linear_model import LogisticRegression\n",
    "from sklearn.metrics import accuracy_score, classification_report, confusion_matrix, ConfusionMatrixDisplay\n",
    "from sklearn.naive_bayes import MultinomialNB\n",
    "from sklearn import svm\n",
    "from sklearn.svm import SVC\n",
    "from sklearn.neighbors import KNeighborsClassifier\n",
    "import xgboost as xgb\n",
    "from sklearn.preprocessing import LabelEncoder\n",
    "import warnings\n",
    "warnings.filterwarnings('ignore')"
   ]
  },
  {
   "cell_type": "code",
   "execution_count": 2,
   "id": "754b4d55-002f-4406-a035-4ddbfc52a4ef",
   "metadata": {},
   "outputs": [],
   "source": [
    "df = pd.read_csv('recession_2023_india_tweets_dataset.csv')"
   ]
  },
  {
   "cell_type": "code",
   "execution_count": 3,
   "id": "140c9f22-391a-4ddd-b2eb-5015d33baa1c",
   "metadata": {},
   "outputs": [
    {
     "data": {
      "text/html": [
       "<div>\n",
       "<style scoped>\n",
       "    .dataframe tbody tr th:only-of-type {\n",
       "        vertical-align: middle;\n",
       "    }\n",
       "\n",
       "    .dataframe tbody tr th {\n",
       "        vertical-align: top;\n",
       "    }\n",
       "\n",
       "    .dataframe thead th {\n",
       "        text-align: right;\n",
       "    }\n",
       "</style>\n",
       "<table border=\"1\" class=\"dataframe\">\n",
       "  <thead>\n",
       "    <tr style=\"text-align: right;\">\n",
       "      <th></th>\n",
       "      <th>date</th>\n",
       "      <th>id</th>\n",
       "      <th>content</th>\n",
       "      <th>username</th>\n",
       "      <th>likeCount</th>\n",
       "      <th>retweetCount</th>\n",
       "    </tr>\n",
       "  </thead>\n",
       "  <tbody>\n",
       "    <tr>\n",
       "      <th>0</th>\n",
       "      <td>2022-11-30 04:17:49+00:00</td>\n",
       "      <td>1597807084934172672</td>\n",
       "      <td>📌 @elonmusk begins hiring for Twitter 2.0 afte...</td>\n",
       "      <td>workflexitweets</td>\n",
       "      <td>1</td>\n",
       "      <td>1</td>\n",
       "    </tr>\n",
       "    <tr>\n",
       "      <th>1</th>\n",
       "      <td>2022-11-30 02:48:10+00:00</td>\n",
       "      <td>1597784522728558592</td>\n",
       "      <td>Global Recession से दुनिया हुई बेहाल, लेकिन In...</td>\n",
       "      <td>indilinks</td>\n",
       "      <td>0</td>\n",
       "      <td>0</td>\n",
       "    </tr>\n",
       "    <tr>\n",
       "      <th>2</th>\n",
       "      <td>2022-11-29 17:21:57+00:00</td>\n",
       "      <td>1597642029479038976</td>\n",
       "      <td>Will global recession impact India or not? #re...</td>\n",
       "      <td>BizzBuzzNews</td>\n",
       "      <td>0</td>\n",
       "      <td>0</td>\n",
       "    </tr>\n",
       "    <tr>\n",
       "      <th>3</th>\n",
       "      <td>2022-11-29 11:40:40+00:00</td>\n",
       "      <td>1597556142213070850</td>\n",
       "      <td>Is Recession In India Coming Soon?\\n\\nWant to ...</td>\n",
       "      <td>Anubhav74782862</td>\n",
       "      <td>0</td>\n",
       "      <td>0</td>\n",
       "    </tr>\n",
       "    <tr>\n",
       "      <th>4</th>\n",
       "      <td>2022-11-29 10:12:57+00:00</td>\n",
       "      <td>1597534071202385922</td>\n",
       "      <td>A report by #realestate data collation &amp;amp; r...</td>\n",
       "      <td>indiaoutbound</td>\n",
       "      <td>1</td>\n",
       "      <td>0</td>\n",
       "    </tr>\n",
       "  </tbody>\n",
       "</table>\n",
       "</div>"
      ],
      "text/plain": [
       "                        date                   id  \\\n",
       "0  2022-11-30 04:17:49+00:00  1597807084934172672   \n",
       "1  2022-11-30 02:48:10+00:00  1597784522728558592   \n",
       "2  2022-11-29 17:21:57+00:00  1597642029479038976   \n",
       "3  2022-11-29 11:40:40+00:00  1597556142213070850   \n",
       "4  2022-11-29 10:12:57+00:00  1597534071202385922   \n",
       "\n",
       "                                             content         username  \\\n",
       "0  📌 @elonmusk begins hiring for Twitter 2.0 afte...  workflexitweets   \n",
       "1  Global Recession से दुनिया हुई बेहाल, लेकिन In...        indilinks   \n",
       "2  Will global recession impact India or not? #re...     BizzBuzzNews   \n",
       "3  Is Recession In India Coming Soon?\\n\\nWant to ...  Anubhav74782862   \n",
       "4  A report by #realestate data collation &amp; r...    indiaoutbound   \n",
       "\n",
       "   likeCount  retweetCount  \n",
       "0          1             1  \n",
       "1          0             0  \n",
       "2          0             0  \n",
       "3          0             0  \n",
       "4          1             0  "
      ]
     },
     "execution_count": 3,
     "metadata": {},
     "output_type": "execute_result"
    }
   ],
   "source": [
    "df.head()"
   ]
  },
  {
   "cell_type": "code",
   "execution_count": 4,
   "id": "1061304c-a224-485c-be11-525c9aa9ad94",
   "metadata": {},
   "outputs": [
    {
     "name": "stdout",
     "output_type": "stream",
     "text": [
      "<class 'pandas.core.frame.DataFrame'>\n",
      "RangeIndex: 5176 entries, 0 to 5175\n",
      "Data columns (total 6 columns):\n",
      " #   Column        Non-Null Count  Dtype \n",
      "---  ------        --------------  ----- \n",
      " 0   date          5176 non-null   object\n",
      " 1   id            5176 non-null   int64 \n",
      " 2   content       5176 non-null   object\n",
      " 3   username      5176 non-null   object\n",
      " 4   likeCount     5176 non-null   int64 \n",
      " 5   retweetCount  5176 non-null   int64 \n",
      "dtypes: int64(3), object(3)\n",
      "memory usage: 242.8+ KB\n"
     ]
    }
   ],
   "source": [
    "df.info()"
   ]
  },
  {
   "cell_type": "code",
   "execution_count": 5,
   "id": "ecebee01-46d8-4fb0-ba52-9592b31e1e99",
   "metadata": {},
   "outputs": [
    {
     "data": {
      "text/plain": [
       "date            0\n",
       "id              0\n",
       "content         0\n",
       "username        0\n",
       "likeCount       0\n",
       "retweetCount    0\n",
       "dtype: int64"
      ]
     },
     "execution_count": 5,
     "metadata": {},
     "output_type": "execute_result"
    }
   ],
   "source": [
    "df.isnull().sum()"
   ]
  },
  {
   "cell_type": "code",
   "execution_count": 6,
   "id": "6c2be28c-d408-448c-b841-38a18d9a1a47",
   "metadata": {},
   "outputs": [
    {
     "data": {
      "text/plain": [
       "Index(['date', 'id', 'content', 'username', 'likeCount', 'retweetCount'], dtype='object')"
      ]
     },
     "execution_count": 6,
     "metadata": {},
     "output_type": "execute_result"
    }
   ],
   "source": [
    "df.columns"
   ]
  },
  {
   "cell_type": "code",
   "execution_count": 7,
   "id": "16a4e7ba-bdc1-45dd-bfd2-b2296cc7b57f",
   "metadata": {},
   "outputs": [
    {
     "data": {
      "text/html": [
       "<div>\n",
       "<style scoped>\n",
       "    .dataframe tbody tr th:only-of-type {\n",
       "        vertical-align: middle;\n",
       "    }\n",
       "\n",
       "    .dataframe tbody tr th {\n",
       "        vertical-align: top;\n",
       "    }\n",
       "\n",
       "    .dataframe thead th {\n",
       "        text-align: right;\n",
       "    }\n",
       "</style>\n",
       "<table border=\"1\" class=\"dataframe\">\n",
       "  <thead>\n",
       "    <tr style=\"text-align: right;\">\n",
       "      <th></th>\n",
       "      <th>content</th>\n",
       "    </tr>\n",
       "  </thead>\n",
       "  <tbody>\n",
       "    <tr>\n",
       "      <th>0</th>\n",
       "      <td>📌 @elonmusk begins hiring for Twitter 2.0 afte...</td>\n",
       "    </tr>\n",
       "    <tr>\n",
       "      <th>1</th>\n",
       "      <td>Global Recession से दुनिया हुई बेहाल, लेकिन In...</td>\n",
       "    </tr>\n",
       "    <tr>\n",
       "      <th>2</th>\n",
       "      <td>Will global recession impact India or not? #re...</td>\n",
       "    </tr>\n",
       "    <tr>\n",
       "      <th>3</th>\n",
       "      <td>Is Recession In India Coming Soon?\\n\\nWant to ...</td>\n",
       "    </tr>\n",
       "    <tr>\n",
       "      <th>4</th>\n",
       "      <td>A report by #realestate data collation &amp;amp; r...</td>\n",
       "    </tr>\n",
       "  </tbody>\n",
       "</table>\n",
       "</div>"
      ],
      "text/plain": [
       "                                             content\n",
       "0  📌 @elonmusk begins hiring for Twitter 2.0 afte...\n",
       "1  Global Recession से दुनिया हुई बेहाल, लेकिन In...\n",
       "2  Will global recession impact India or not? #re...\n",
       "3  Is Recession In India Coming Soon?\\n\\nWant to ...\n",
       "4  A report by #realestate data collation &amp; r..."
      ]
     },
     "execution_count": 7,
     "metadata": {},
     "output_type": "execute_result"
    }
   ],
   "source": [
    "text_df = df.drop(['date', 'id', 'username', 'likeCount',\n",
    "       'retweetCount'], axis=1)\n",
    "text_df.head()"
   ]
  },
  {
   "cell_type": "code",
   "execution_count": 8,
   "id": "5a05b00e-72ce-4471-8b9a-cc1b0b36fd46",
   "metadata": {},
   "outputs": [
    {
     "name": "stdout",
     "output_type": "stream",
     "text": [
      "📌 @elonmusk begins hiring for Twitter 2.0 after firing nearly 5000 employees, reveals future plans\n",
      "\n",
      "📌 @amazonIN likely to fire hundreds of workers in India next month\n",
      "#Hiring #ELONMUSK #layoffs #Amazon #recession #layoff #job \n",
      "\n",
      "Global Recession से दुनिया हुई बेहाल, लेकिन India ने कर डाला बड़ा कमाल, आखिर कैसे चला भारत का सिक्का\n",
      "#global #recession #globalrecession2022\n",
      "#indilinksnews\n",
      "\n",
      "https://t.co/ghnwjoMsj5 https://t.co/own7FgFqGR \n",
      "\n",
      "Will global recession impact India or not? #recession #USA #layoffs #realestatesector https://t.co/wU5DKBul9g \n",
      "\n",
      "Is Recession In India Coming Soon?\n",
      "\n",
      "Want to know read our article: \n",
      "https://t.co/Yq6hoqOjv5\n",
      "\n",
      "#recession #India https://t.co/IrEdXvIvVX \n",
      "\n",
      "A report by #realestate data collation &amp; research firm #CoStar says that appetite for new investments in hotels in #Europe has continued to grow, despite #RussiaUkraineWar, record-high #inflation &amp; even signs of a #recession. #IO @CoStarUS @alvarezmarsal\n",
      "\n",
      "https://t.co/0QDn2ujQUm \n",
      "\n"
     ]
    }
   ],
   "source": [
    "print(text_df['content'].iloc[0],\"\\n\")\n",
    "print(text_df['content'].iloc[1],\"\\n\")\n",
    "print(text_df['content'].iloc[2],\"\\n\")\n",
    "print(text_df['content'].iloc[3],\"\\n\")\n",
    "print(text_df['content'].iloc[4],\"\\n\")"
   ]
  },
  {
   "cell_type": "code",
   "execution_count": 9,
   "id": "a77094fc-87a8-4d6d-81f6-0ecc0cc5c962",
   "metadata": {},
   "outputs": [
    {
     "name": "stdout",
     "output_type": "stream",
     "text": [
      "<class 'pandas.core.frame.DataFrame'>\n",
      "RangeIndex: 5176 entries, 0 to 5175\n",
      "Data columns (total 1 columns):\n",
      " #   Column   Non-Null Count  Dtype \n",
      "---  ------   --------------  ----- \n",
      " 0   content  5176 non-null   object\n",
      "dtypes: object(1)\n",
      "memory usage: 40.6+ KB\n"
     ]
    }
   ],
   "source": [
    "text_df.info()"
   ]
  },
  {
   "cell_type": "code",
   "execution_count": 10,
   "id": "1589f812-43b1-4bef-9644-aa5c1f269915",
   "metadata": {},
   "outputs": [],
   "source": [
    "def data_processing(text):\n",
    "    text = text.lower()\n",
    "    text = re.sub(r\"https\\S+|www\\S+https\\S+\", '',text, flags=re.MULTILINE)\n",
    "    text = re.sub(r'\\@w+|\\#','',text)\n",
    "    text = re.sub(r'[^\\w\\s]','',text)\n",
    "    text_tokens = word_tokenize(text)\n",
    "    filtered_text = [w for w in text_tokens if not w in stop_words]\n",
    "    return \" \".join(filtered_text)"
   ]
  },
  {
   "cell_type": "code",
   "execution_count": 11,
   "id": "9842e719-d199-4860-8659-f02b40065de9",
   "metadata": {},
   "outputs": [],
   "source": [
    "text_df.content = text_df['content'].apply(data_processing)\n",
    "text_df = text_df.drop_duplicates('content')"
   ]
  },
  {
   "cell_type": "code",
   "execution_count": 12,
   "id": "eecdbefb-9d34-4610-b9c2-4345014cf3d8",
   "metadata": {},
   "outputs": [],
   "source": [
    "stemmer = PorterStemmer()\n",
    "def stemming(data):\n",
    "    text = [stemmer.stem(word) for word in data]\n",
    "    return data"
   ]
  },
  {
   "cell_type": "code",
   "execution_count": null,
   "id": "3b435de0-5e2c-48a2-9197-c6b925f83315",
   "metadata": {},
   "outputs": [],
   "source": [
    "text_df['content'] = text_df['content'].apply(lambda x: stemming(x))"
   ]
  },
  {
   "cell_type": "code",
   "execution_count": null,
   "id": "af53d2f8-edc1-4af2-b6c4-425612e444b8",
   "metadata": {},
   "outputs": [],
   "source": [
    "text_df.head()"
   ]
  },
  {
   "cell_type": "code",
   "execution_count": null,
   "id": "5cc030cc-d5cc-4bf9-bc78-8fa471e70e70",
   "metadata": {},
   "outputs": [],
   "source": [
    "print(text_df['content'].iloc[0],\"\\n\")\n",
    "print(text_df['content'].iloc[1],\"\\n\")\n",
    "print(text_df['content'].iloc[2],\"\\n\")\n",
    "print(text_df['content'].iloc[3],\"\\n\")\n",
    "print(text_df['content'].iloc[4],\"\\n\")"
   ]
  },
  {
   "cell_type": "code",
   "execution_count": null,
   "id": "c737499a-86f0-48ed-a8f0-409b3518119f",
   "metadata": {},
   "outputs": [],
   "source": [
    "text_df.info()"
   ]
  },
  {
   "cell_type": "code",
   "execution_count": null,
   "id": "0c4f5780-81ca-4bdf-b9cb-f99680cb1ea9",
   "metadata": {},
   "outputs": [],
   "source": [
    "def polarity(text):\n",
    "    return TextBlob(text).sentiment.polarity"
   ]
  },
  {
   "cell_type": "code",
   "execution_count": null,
   "id": "0b15084b-ec3a-4cb7-8421-c00ce4fea2af",
   "metadata": {},
   "outputs": [],
   "source": [
    "text_df['polarity'] = text_df['content'].apply(polarity)"
   ]
  },
  {
   "cell_type": "code",
   "execution_count": null,
   "id": "32a5d688-4a2a-4df4-8705-3abce00101d1",
   "metadata": {},
   "outputs": [],
   "source": [
    "text_df.head(10)"
   ]
  },
  {
   "cell_type": "code",
   "execution_count": null,
   "id": "39c59fa8-38a6-4829-ba76-4d72865f1062",
   "metadata": {},
   "outputs": [],
   "source": [
    "def sentiment(label):\n",
    "    if label <0:\n",
    "        return \"Negative\"\n",
    "    elif label ==0:\n",
    "        return \"Neutral\"\n",
    "    elif label>0:\n",
    "        return \"Positive\""
   ]
  },
  {
   "cell_type": "code",
   "execution_count": null,
   "id": "364d01c0-125f-4700-ab56-ff0da113f7d9",
   "metadata": {},
   "outputs": [],
   "source": [
    "text_df['sentiment'] = text_df['polarity'].apply(sentiment)"
   ]
  },
  {
   "cell_type": "code",
   "execution_count": null,
   "id": "6553c565-46b1-432e-95a7-c7cebfe15e2a",
   "metadata": {},
   "outputs": [],
   "source": [
    "text_df.head()"
   ]
  },
  {
   "cell_type": "code",
   "execution_count": null,
   "id": "1d6a4583-526b-4770-b7e5-7c35f7282128",
   "metadata": {},
   "outputs": [],
   "source": [
    "fig = plt.figure(figsize=(5,5))\n",
    "sns.countplot(x='sentiment', data = text_df)"
   ]
  },
  {
   "cell_type": "code",
   "execution_count": null,
   "id": "55b8c944-fcc3-4252-9154-b6afb55dbaf3",
   "metadata": {},
   "outputs": [],
   "source": [
    "fig = plt.figure(figsize=(7,7))\n",
    "colors = (\"yellowgreen\", \"gold\", \"red\")\n",
    "wp = {'linewidth':2, 'edgecolor':\"black\"}\n",
    "tags = text_df['sentiment'].value_counts()\n",
    "explode = (0.1,0.1,0.1)\n",
    "tags.plot(kind='pie', autopct='%1.1f%%', shadow=True, colors = colors,\n",
    "         startangle=90, wedgeprops = wp, explode = explode, label='')\n",
    "plt.title('Distribution of sentiments')"
   ]
  },
  {
   "cell_type": "code",
   "execution_count": null,
   "id": "ec0327d3-7347-40ea-b374-12a24df0729b",
   "metadata": {},
   "outputs": [],
   "source": [
    "pos_tweets = text_df[text_df.sentiment == 'Positive']\n",
    "pos_tweets = pos_tweets.sort_values(['polarity'], ascending= False)\n",
    "pos_tweets.head()"
   ]
  },
  {
   "cell_type": "code",
   "execution_count": null,
   "id": "4794ae57-cb0e-435d-bda9-9c0c3fe5224e",
   "metadata": {},
   "outputs": [],
   "source": [
    "text = ' '.join([word for word in pos_tweets['content']])\n",
    "plt.figure(figsize=(20,15), facecolor='None')\n",
    "wordcloud = WordCloud(max_words=500, width=1600, height=800).generate(text)\n",
    "plt.imshow(wordcloud, interpolation='bilinear')\n",
    "plt.axis(\"off\")\n",
    "plt.title('Most frequent words in positive tweets', fontsize=19)\n",
    "plt.show()"
   ]
  },
  {
   "cell_type": "code",
   "execution_count": null,
   "id": "c093016d-1986-4e35-9a18-81565f296121",
   "metadata": {},
   "outputs": [],
   "source": [
    "neg_tweets = text_df[text_df.sentiment == 'Negative']\n",
    "neg_tweets = neg_tweets.sort_values(['polarity'], ascending= False)\n",
    "neg_tweets.head()\n"
   ]
  },
  {
   "cell_type": "code",
   "execution_count": null,
   "id": "b8e35dc9-28e8-48c5-9e10-d29acfd308a7",
   "metadata": {},
   "outputs": [],
   "source": [
    "text = ' '.join([word for word in neg_tweets['content']])\n",
    "plt.figure(figsize=(20,15), facecolor='None')\n",
    "wordcloud = WordCloud(max_words=500, width=1600, height=800).generate(text)\n",
    "plt.imshow(wordcloud, interpolation='bilinear')\n",
    "plt.axis(\"off\")\n",
    "plt.title('Most frequent words in negative tweets', fontsize=19)\n",
    "plt.show()"
   ]
  },
  {
   "cell_type": "code",
   "execution_count": null,
   "id": "2ec41b91-d14e-4865-b920-5bc4975d1cea",
   "metadata": {},
   "outputs": [],
   "source": [
    "neutral_tweets = text_df[text_df.sentiment == 'Neutral']\n",
    "neutral_tweets = neutral_tweets.sort_values(['polarity'], ascending= False)\n",
    "neutral_tweets.head()"
   ]
  },
  {
   "cell_type": "code",
   "execution_count": null,
   "id": "4253bdc2-096a-46a3-b9f5-4f6e38c45b69",
   "metadata": {},
   "outputs": [],
   "source": [
    "text = ' '.join([word for word in neutral_tweets['content']])\n",
    "plt.figure(figsize=(20,15), facecolor='None')\n",
    "wordcloud = WordCloud(max_words=500, width=1600, height=800).generate(text)\n",
    "plt.imshow(wordcloud, interpolation='bilinear')\n",
    "plt.axis(\"off\")\n",
    "plt.title('Most frequent words in neutral tweets', fontsize=19)\n",
    "plt.show()"
   ]
  },
  {
   "cell_type": "code",
   "execution_count": null,
   "id": "a15249ee-2223-4e99-84d5-ad0e405d3494",
   "metadata": {},
   "outputs": [],
   "source": [
    "vect = CountVectorizer(ngram_range=(1,2)).fit(text_df['content'])"
   ]
  },
  {
   "cell_type": "code",
   "execution_count": null,
   "id": "62aeb7fa-e102-4c74-9f19-848b3546b046",
   "metadata": {},
   "outputs": [],
   "source": [
    "feature_names = vect.get_feature_names_out()\n",
    "print(\"Number of features: {}\\n\".format(len(feature_names)))\n",
    "print(\"First 20 features:\\n {}\".format(feature_names[:20]))"
   ]
  },
  {
   "cell_type": "code",
   "execution_count": null,
   "id": "0dac0204-ec26-4472-b592-1272c090e75a",
   "metadata": {},
   "outputs": [],
   "source": [
    "X = text_df['content']\n",
    "Y = text_df['sentiment']\n",
    "X = vect.transform(X)"
   ]
  },
  {
   "cell_type": "code",
   "execution_count": null,
   "id": "0485a893-134b-426f-aa11-c4bdfde13fd8",
   "metadata": {},
   "outputs": [],
   "source": [
    "x_train, x_test, y_train, y_test = train_test_split(X, Y, test_size=0.2, random_state=42)"
   ]
  },
  {
   "cell_type": "code",
   "execution_count": null,
   "id": "4303f04e-df08-43bb-84da-725d3f6894f7",
   "metadata": {},
   "outputs": [],
   "source": [
    "print(\"Size of x_train:\", (x_train.shape))\n",
    "print(\"Size of y_train:\", (y_train.shape))\n",
    "print(\"Size of x_test:\", (x_test.shape))\n",
    "print(\"Size of y_test:\", (y_test.shape))"
   ]
  },
  {
   "cell_type": "code",
   "execution_count": null,
   "id": "492a273a-cd3c-4347-a11d-90602f20af4b",
   "metadata": {},
   "outputs": [],
   "source": [
    "#Logistic Regression\n",
    "logreg = LogisticRegression()\n",
    "logreg.fit(x_train, y_train)\n",
    "logreg_pred = logreg.predict(x_test)\n",
    "logreg_acc = accuracy_score(logreg_pred, y_test)\n",
    "print(\"Test accuracy: {:.2f}%\".format(logreg_acc*100))"
   ]
  },
  {
   "cell_type": "code",
   "execution_count": null,
   "id": "acaf807d-94d1-470c-be71-3fe10cca5ff9",
   "metadata": {},
   "outputs": [],
   "source": [
    "print(confusion_matrix(y_test, logreg_pred))\n",
    "print(\"\\n\")\n",
    "print(classification_report(y_test, logreg_pred))"
   ]
  },
  {
   "cell_type": "code",
   "execution_count": null,
   "id": "3c685633-e476-4bc6-a426-dfe196b7fa23",
   "metadata": {},
   "outputs": [],
   "source": [
    "style.use('classic')\n",
    "cm = confusion_matrix(y_test, logreg_pred, labels=logreg.classes_)\n",
    "disp = ConfusionMatrixDisplay(confusion_matrix = cm, display_labels=logreg.classes_)\n",
    "disp.plot()"
   ]
  },
  {
   "cell_type": "code",
   "execution_count": null,
   "id": "bf627f2d-ffce-409d-b8f1-d4ffa3493d96",
   "metadata": {},
   "outputs": [],
   "source": [
    "# XGBoost\n",
    "import xgboost as xgb\n",
    "from sklearn.preprocessing import LabelEncoder\n",
    "\n",
    "le = LabelEncoder()\n",
    "y_train_encoded = le.fit_transform(y_train)\n",
    "y_test_encoded = le.transform(y_test)\n",
    "\n",
    "xgb_model = xgb.XGBClassifier()\n",
    "xgb_model.fit(x_train, y_train_encoded)\n",
    "\n",
    "xgb_pred = xgb_model.predict(x_test)\n",
    "xgb_acc = accuracy_score(y_test_encoded, xgb_pred)\n",
    "print(\"Test accuracy: {:.2f}%\".format(xgb_acc*100))\n",
    "\n",
    "print(confusion_matrix(y_test_encoded, xgb_pred))\n",
    "print(\"\\n\")\n",
    "print(classification_report(y_test_encoded, xgb_pred))\n",
    "\n"
   ]
  },
  {
   "cell_type": "code",
   "execution_count": null,
   "id": "6bcdd02d-0c6d-445e-b606-63aca126b009",
   "metadata": {},
   "outputs": [],
   "source": [
    "cm = confusion_matrix(y_test_encoded, xgb_pred)\n",
    "disp = ConfusionMatrixDisplay(confusion_matrix=cm, display_labels=le.classes_)\n",
    "disp.plot()\n",
    "plt.show()"
   ]
  },
  {
   "cell_type": "code",
   "execution_count": null,
   "id": "f069d7e5-15f5-4ee6-bc43-c21d6947c114",
   "metadata": {},
   "outputs": [],
   "source": [
    "# Naive Bayes\n",
    "from sklearn.model_selection import GridSearchCV\n",
    "from sklearn.naive_bayes import MultinomialNB\n",
    "\n",
    "nb_model = MultinomialNB()\n",
    "nb_model.fit(x_train, y_train)\n",
    "\n",
    "nb_pred = nb_model.predict(x_test)\n",
    "nb_acc = accuracy_score(nb_pred, y_test)\n",
    "print(\"Test accuracy: {:.2f}%\".format(nb_acc*100))\n",
    "\n",
    "print(confusion_matrix(y_test, nb_pred))\n",
    "print(\"\\n\")\n",
    "print(classification_report(y_test, nb_pred))\n",
    "\n"
   ]
  },
  {
   "cell_type": "code",
   "execution_count": null,
   "id": "adaad960-8fe6-4698-8fb4-c343f7779f27",
   "metadata": {},
   "outputs": [],
   "source": [
    "cm = confusion_matrix(y_test, nb_pred)\n",
    "disp = ConfusionMatrixDisplay(confusion_matrix=cm, display_labels=le.classes_)\n",
    "disp.plot()\n",
    "plt.show()"
   ]
  },
  {
   "cell_type": "code",
   "execution_count": null,
   "id": "e7d8252c-b975-4d27-8f0a-e1dba6f96144",
   "metadata": {},
   "outputs": [],
   "source": [
    "# KNN\n",
    "from sklearn.neighbors import KNeighborsClassifier\n",
    "\n",
    "knn_model = KNeighborsClassifier()\n",
    "knn_model.fit(x_train, y_train)\n",
    "\n",
    "knn_pred = knn_model.predict(x_test)\n",
    "knn_acc = accuracy_score(knn_pred, y_test)\n",
    "print(\"Test accuracy: {:.2f}%\".format(knn_acc*100))\n",
    "\n",
    "print(confusion_matrix(y_test, knn_pred))\n",
    "print(\"\\n\")\n",
    "print(classification_report(y_test, knn_pred))\n",
    "\n"
   ]
  },
  {
   "cell_type": "code",
   "execution_count": null,
   "id": "b45be338-422a-41e2-a752-c1ea523cdaf2",
   "metadata": {},
   "outputs": [],
   "source": [
    "cm = confusion_matrix(y_test, knn_pred)\n",
    "disp = ConfusionMatrixDisplay(confusion_matrix=cm, display_labels=le.classes_)\n",
    "disp.plot()\n",
    "plt.show()"
   ]
  },
  {
   "cell_type": "code",
   "execution_count": null,
   "id": "5d99a706-af30-4012-9cfb-44dee970f885",
   "metadata": {},
   "outputs": [],
   "source": [
    "\n",
    "svm_model = svm.SVC()\n",
    "svm_model.fit(x_train, y_train_encoded)\n",
    "\n",
    "svm_pred = svm_model.predict(x_test)\n",
    "svm_acc = accuracy_score(y_test_encoded, svm_pred)\n",
    "print(\"Test accuracy: {:.2f}%\".format(svm_acc*100))\n",
    "\n",
    "print(confusion_matrix(y_test_encoded, svm_pred))\n",
    "print(\"\\n\")\n",
    "print(classification_report(y_test_encoded, svm_pred))\n",
    "\n"
   ]
  },
  {
   "cell_type": "code",
   "execution_count": null,
   "id": "2606ec9a-8926-433a-9784-ddf243fa2e45",
   "metadata": {},
   "outputs": [],
   "source": [
    "cm = confusion_matrix(y_test_encoded, svm_pred)\n",
    "disp = ConfusionMatrixDisplay(confusion_matrix=cm, display_labels=le.classes_)\n",
    "disp.plot()\n",
    "plt.show()"
   ]
  },
  {
   "cell_type": "code",
   "execution_count": null,
   "id": "7c32ea7f-bc1a-4d67-9d6b-3fe793b1a6ab",
   "metadata": {},
   "outputs": [],
   "source": [
    "import pandas as pd\n",
    "import matplotlib.pyplot as plt\n",
    "from sklearn.metrics import ConfusionMatrixDisplay\n",
    "\n",
    "# Define the models and their corresponding accuracy scores\n",
    "models = [\n",
    "    ('Logistic Regression', logreg_acc),\n",
    "    ('XGBoost', xgb_acc),\n",
    "    ('Naive Bayes', nb_acc),\n",
    "    ('KNN', knn_acc),\n",
    "    ('SVM', svm_acc)\n",
    "]\n",
    "\n",
    "# Create a dataframe to store the results\n",
    "df = pd.DataFrame(models, columns=['Model', 'Accuracy'])\n",
    "\n",
    "# Plot the results using a bar chart\n",
    "plt.figure(figsize=(10, 6))\n",
    "plt.bar(df['Model'], df['Accuracy'])\n",
    "plt.xlabel('Model')\n",
    "plt.ylabel('Accuracy')\n",
    "plt.title('Comparative Analysis of Models')\n",
    "plt.show()\n",
    "#Table \n",
    "table = pd.DataFrame(df['Accuracy'].values, columns=['Accuracy'])\n",
    "table.insert(0, 'Model', df['Model'])\n",
    "print(table)"
   ]
  },
  {
   "cell_type": "code",
   "execution_count": null,
   "id": "22740a4e-ca3c-4251-b633-b3d8217b61cf",
   "metadata": {},
   "outputs": [],
   "source": []
  },
  {
   "cell_type": "code",
   "execution_count": null,
   "id": "6c23a877-fb3f-48c8-8121-d8417b4c6036",
   "metadata": {},
   "outputs": [],
   "source": []
  }
 ],
 "metadata": {
  "kernelspec": {
   "display_name": "Python 3 (ipykernel)",
   "language": "python",
   "name": "python3"
  },
  "language_info": {
   "codemirror_mode": {
    "name": "ipython",
    "version": 3
   },
   "file_extension": ".py",
   "mimetype": "text/x-python",
   "name": "python",
   "nbconvert_exporter": "python",
   "pygments_lexer": "ipython3",
   "version": "3.11.7"
  }
 },
 "nbformat": 4,
 "nbformat_minor": 5
}
